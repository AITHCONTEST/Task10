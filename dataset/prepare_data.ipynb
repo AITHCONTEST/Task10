{
 "cells": [
  {
   "cell_type": "code",
   "execution_count": 148,
   "id": "9bd6bc9e-ac7e-4bb1-b1bc-b7c1418111d8",
   "metadata": {},
   "outputs": [],
   "source": [
    "import copy\n",
    "import random\n",
    "import numpy as np\n",
    "import pandas as pd\n",
    "\n",
    "from tqdm.notebook import tqdm\n",
    "from uralicNLP import uralicApi\n",
    "from collections import Counter"
   ]
  },
  {
   "cell_type": "code",
   "execution_count": 2,
   "id": "918e7f7a-690b-4d96-8944-6b5f233e8ee9",
   "metadata": {},
   "outputs": [],
   "source": [
    "dt = pd.read_csv(\"overall_80K.csv\")"
   ]
  },
  {
   "cell_type": "code",
   "execution_count": 3,
   "id": "50a68f19-319d-4bad-baa6-46b7db42b224",
   "metadata": {},
   "outputs": [
    {
     "data": {
      "text/html": [
       "<div>\n",
       "<style scoped>\n",
       "    .dataframe tbody tr th:only-of-type {\n",
       "        vertical-align: middle;\n",
       "    }\n",
       "\n",
       "    .dataframe tbody tr th {\n",
       "        vertical-align: top;\n",
       "    }\n",
       "\n",
       "    .dataframe thead th {\n",
       "        text-align: right;\n",
       "    }\n",
       "</style>\n",
       "<table border=\"1\" class=\"dataframe\">\n",
       "  <thead>\n",
       "    <tr style=\"text-align: right;\">\n",
       "      <th></th>\n",
       "      <th>fid</th>\n",
       "      <th>target</th>\n",
       "      <th>source</th>\n",
       "    </tr>\n",
       "  </thead>\n",
       "  <tbody>\n",
       "    <tr>\n",
       "      <th>0</th>\n",
       "      <td>0</td>\n",
       "      <td>Та пыгрисит маим вармаль э̄рнэ поратэт ат верм...</td>\n",
       "      <td>Те мальчики не выполнят задание в назначенный ...</td>\n",
       "    </tr>\n",
       "    <tr>\n",
       "      <th>1</th>\n",
       "      <td>1</td>\n",
       "      <td>Ха̄йтыматэ тӯр ва̄тан ёхтыс, вит ва̄тан ха̄йтыс.</td>\n",
       "      <td>Бегая к берегу озера пришла, к воде подбежала.</td>\n",
       "    </tr>\n",
       "    <tr>\n",
       "      <th>2</th>\n",
       "      <td>2</td>\n",
       "      <td>Вит са̄мыл сунсым о̄нтыс</td>\n",
       "      <td>Вода прибывала на глазах</td>\n",
       "    </tr>\n",
       "    <tr>\n",
       "      <th>3</th>\n",
       "      <td>3</td>\n",
       "      <td>Атаявев, акваг лылынг тагл ворн та тотавев.</td>\n",
       "      <td>Обнюхивает нас, живыми на кладбище уносит.</td>\n",
       "    </tr>\n",
       "    <tr>\n",
       "      <th>4</th>\n",
       "      <td>4</td>\n",
       "      <td>Ман ты пӣлтал,  веськат хумиюв  нэтхуньт ат ёр...</td>\n",
       "      <td>Мы никогда не забудем этого честного человека.</td>\n",
       "    </tr>\n",
       "    <tr>\n",
       "      <th>...</th>\n",
       "      <td>...</td>\n",
       "      <td>...</td>\n",
       "      <td>...</td>\n",
       "    </tr>\n",
       "    <tr>\n",
       "      <th>81141</th>\n",
       "      <td>2345</td>\n",
       "      <td>А̄нумн ка̄салахты аквтуп тамле о̄лнэ накыт ма̄...</td>\n",
       "      <td>Мне кажется, что подобные случаи могут вызыват...</td>\n",
       "    </tr>\n",
       "    <tr>\n",
       "      <th>81142</th>\n",
       "      <td>2346</td>\n",
       "      <td>А̄танэ нё̄тнэ̄г юил акван-атманэ.</td>\n",
       "      <td>Волосы аккуратно собраны сзади.</td>\n",
       "    </tr>\n",
       "    <tr>\n",
       "      <th>81143</th>\n",
       "      <td>2347</td>\n",
       "      <td>Тох тай, культура сака тэ̄пгалан мед а̄тим.</td>\n",
       "      <td>В общем, культуры интенсивного потребления мед...</td>\n",
       "    </tr>\n",
       "    <tr>\n",
       "      <th>81144</th>\n",
       "      <td>2348</td>\n",
       "      <td>Тувыл Уэйтс ты музыкантыг ёт, Чарли Рич ос Фрэ...</td>\n",
       "      <td>Затем Уэйтс отправился на гастроли с такими му...</td>\n",
       "    </tr>\n",
       "    <tr>\n",
       "      <th>81145</th>\n",
       "      <td>2349</td>\n",
       "      <td>Тох ман ро̄ви та̄ра юртанын воськасаӈквет?</td>\n",
       "      <td>Но разве можно вот так просто покинуть своих д...</td>\n",
       "    </tr>\n",
       "  </tbody>\n",
       "</table>\n",
       "<p>81146 rows × 3 columns</p>\n",
       "</div>"
      ],
      "text/plain": [
       "        fid                                             target  \\\n",
       "0         0  Та пыгрисит маим вармаль э̄рнэ поратэт ат верм...   \n",
       "1         1  Ха̄йтыматэ тӯр ва̄тан ёхтыс, вит ва̄тан ха̄йтыс.    \n",
       "2         2                          Вит са̄мыл сунсым о̄нтыс    \n",
       "3         3        Атаявев, акваг лылынг тагл ворн та тотавев.   \n",
       "4         4  Ман ты пӣлтал,  веськат хумиюв  нэтхуньт ат ёр...   \n",
       "...     ...                                                ...   \n",
       "81141  2345  А̄нумн ка̄салахты аквтуп тамле о̄лнэ накыт ма̄...   \n",
       "81142  2346                  А̄танэ нё̄тнэ̄г юил акван-атманэ.   \n",
       "81143  2347        Тох тай, культура сака тэ̄пгалан мед а̄тим.   \n",
       "81144  2348  Тувыл Уэйтс ты музыкантыг ёт, Чарли Рич ос Фрэ...   \n",
       "81145  2349         Тох ман ро̄ви та̄ра юртанын воськасаӈквет?   \n",
       "\n",
       "                                                  source  \n",
       "0      Те мальчики не выполнят задание в назначенный ...  \n",
       "1        Бегая к берегу озера пришла, к воде подбежала.   \n",
       "2                              Вода прибывала на глазах   \n",
       "3            Обнюхивает нас, живыми на кладбище уносит.   \n",
       "4         Мы никогда не забудем этого честного человека.  \n",
       "...                                                  ...  \n",
       "81141  Мне кажется, что подобные случаи могут вызыват...  \n",
       "81142                    Волосы аккуратно собраны сзади.  \n",
       "81143  В общем, культуры интенсивного потребления мед...  \n",
       "81144  Затем Уэйтс отправился на гастроли с такими му...  \n",
       "81145  Но разве можно вот так просто покинуть своих д...  \n",
       "\n",
       "[81146 rows x 3 columns]"
      ]
     },
     "execution_count": 3,
     "metadata": {},
     "output_type": "execute_result"
    }
   ],
   "source": [
    "dt"
   ]
  },
  {
   "cell_type": "code",
   "execution_count": 4,
   "id": "170098c2-9d52-4ec5-b72a-9522f3d7aa41",
   "metadata": {},
   "outputs": [],
   "source": [
    "def delete_quotation_marks(sentence):\n",
    "        if sentence[0] == '\\\"' and sentence[-1] == '\\\"':\n",
    "            return sentence[1:-1].strip()\n",
    "        return sentence.strip()"
   ]
  },
  {
   "cell_type": "code",
   "execution_count": 5,
   "id": "09167579-358c-4493-99b9-6e3332d57bf2",
   "metadata": {},
   "outputs": [],
   "source": [
    "dt['pr_target'] = dt['target'].apply(delete_quotation_marks)\n",
    "dt['pr_source'] = dt['source'].apply(delete_quotation_marks)"
   ]
  },
  {
   "cell_type": "code",
   "execution_count": 6,
   "id": "ecd388b0-0a41-4a48-88ea-984ed8c787b2",
   "metadata": {},
   "outputs": [
    {
     "data": {
      "text/html": [
       "<div>\n",
       "<style scoped>\n",
       "    .dataframe tbody tr th:only-of-type {\n",
       "        vertical-align: middle;\n",
       "    }\n",
       "\n",
       "    .dataframe tbody tr th {\n",
       "        vertical-align: top;\n",
       "    }\n",
       "\n",
       "    .dataframe thead th {\n",
       "        text-align: right;\n",
       "    }\n",
       "</style>\n",
       "<table border=\"1\" class=\"dataframe\">\n",
       "  <thead>\n",
       "    <tr style=\"text-align: right;\">\n",
       "      <th></th>\n",
       "      <th>fid</th>\n",
       "      <th>target</th>\n",
       "      <th>source</th>\n",
       "      <th>pr_target</th>\n",
       "      <th>pr_source</th>\n",
       "    </tr>\n",
       "  </thead>\n",
       "  <tbody>\n",
       "    <tr>\n",
       "      <th>0</th>\n",
       "      <td>0</td>\n",
       "      <td>Та пыгрисит маим вармаль э̄рнэ поратэт ат верм...</td>\n",
       "      <td>Те мальчики не выполнят задание в назначенный ...</td>\n",
       "      <td>Та пыгрисит маим вармаль э̄рнэ поратэт ат верм...</td>\n",
       "      <td>Те мальчики не выполнят задание в назначенный ...</td>\n",
       "    </tr>\n",
       "    <tr>\n",
       "      <th>1</th>\n",
       "      <td>1</td>\n",
       "      <td>Ха̄йтыматэ тӯр ва̄тан ёхтыс, вит ва̄тан ха̄йтыс.</td>\n",
       "      <td>Бегая к берегу озера пришла, к воде подбежала.</td>\n",
       "      <td>Ха̄йтыматэ тӯр ва̄тан ёхтыс, вит ва̄тан ха̄йтыс.</td>\n",
       "      <td>Бегая к берегу озера пришла, к воде подбежала.</td>\n",
       "    </tr>\n",
       "    <tr>\n",
       "      <th>2</th>\n",
       "      <td>2</td>\n",
       "      <td>Вит са̄мыл сунсым о̄нтыс</td>\n",
       "      <td>Вода прибывала на глазах</td>\n",
       "      <td>Вит са̄мыл сунсым о̄нтыс</td>\n",
       "      <td>Вода прибывала на глазах</td>\n",
       "    </tr>\n",
       "    <tr>\n",
       "      <th>3</th>\n",
       "      <td>3</td>\n",
       "      <td>Атаявев, акваг лылынг тагл ворн та тотавев.</td>\n",
       "      <td>Обнюхивает нас, живыми на кладбище уносит.</td>\n",
       "      <td>Атаявев, акваг лылынг тагл ворн та тотавев.</td>\n",
       "      <td>Обнюхивает нас, живыми на кладбище уносит.</td>\n",
       "    </tr>\n",
       "    <tr>\n",
       "      <th>4</th>\n",
       "      <td>4</td>\n",
       "      <td>Ман ты пӣлтал,  веськат хумиюв  нэтхуньт ат ёр...</td>\n",
       "      <td>Мы никогда не забудем этого честного человека.</td>\n",
       "      <td>Ман ты пӣлтал,  веськат хумиюв  нэтхуньт ат ёр...</td>\n",
       "      <td>Мы никогда не забудем этого честного человека.</td>\n",
       "    </tr>\n",
       "    <tr>\n",
       "      <th>...</th>\n",
       "      <td>...</td>\n",
       "      <td>...</td>\n",
       "      <td>...</td>\n",
       "      <td>...</td>\n",
       "      <td>...</td>\n",
       "    </tr>\n",
       "    <tr>\n",
       "      <th>81141</th>\n",
       "      <td>2345</td>\n",
       "      <td>А̄нумн ка̄салахты аквтуп тамле о̄лнэ накыт ма̄...</td>\n",
       "      <td>Мне кажется, что подобные случаи могут вызыват...</td>\n",
       "      <td>А̄нумн ка̄салахты аквтуп тамле о̄лнэ накыт ма̄...</td>\n",
       "      <td>Мне кажется, что подобные случаи могут вызыват...</td>\n",
       "    </tr>\n",
       "    <tr>\n",
       "      <th>81142</th>\n",
       "      <td>2346</td>\n",
       "      <td>А̄танэ нё̄тнэ̄г юил акван-атманэ.</td>\n",
       "      <td>Волосы аккуратно собраны сзади.</td>\n",
       "      <td>А̄танэ нё̄тнэ̄г юил акван-атманэ.</td>\n",
       "      <td>Волосы аккуратно собраны сзади.</td>\n",
       "    </tr>\n",
       "    <tr>\n",
       "      <th>81143</th>\n",
       "      <td>2347</td>\n",
       "      <td>Тох тай, культура сака тэ̄пгалан мед а̄тим.</td>\n",
       "      <td>В общем, культуры интенсивного потребления мед...</td>\n",
       "      <td>Тох тай, культура сака тэ̄пгалан мед а̄тим.</td>\n",
       "      <td>В общем, культуры интенсивного потребления мед...</td>\n",
       "    </tr>\n",
       "    <tr>\n",
       "      <th>81144</th>\n",
       "      <td>2348</td>\n",
       "      <td>Тувыл Уэйтс ты музыкантыг ёт, Чарли Рич ос Фрэ...</td>\n",
       "      <td>Затем Уэйтс отправился на гастроли с такими му...</td>\n",
       "      <td>Тувыл Уэйтс ты музыкантыг ёт, Чарли Рич ос Фрэ...</td>\n",
       "      <td>Затем Уэйтс отправился на гастроли с такими му...</td>\n",
       "    </tr>\n",
       "    <tr>\n",
       "      <th>81145</th>\n",
       "      <td>2349</td>\n",
       "      <td>Тох ман ро̄ви та̄ра юртанын воськасаӈквет?</td>\n",
       "      <td>Но разве можно вот так просто покинуть своих д...</td>\n",
       "      <td>Тох ман ро̄ви та̄ра юртанын воськасаӈквет?</td>\n",
       "      <td>Но разве можно вот так просто покинуть своих д...</td>\n",
       "    </tr>\n",
       "  </tbody>\n",
       "</table>\n",
       "<p>81146 rows × 5 columns</p>\n",
       "</div>"
      ],
      "text/plain": [
       "        fid                                             target  \\\n",
       "0         0  Та пыгрисит маим вармаль э̄рнэ поратэт ат верм...   \n",
       "1         1  Ха̄йтыматэ тӯр ва̄тан ёхтыс, вит ва̄тан ха̄йтыс.    \n",
       "2         2                          Вит са̄мыл сунсым о̄нтыс    \n",
       "3         3        Атаявев, акваг лылынг тагл ворн та тотавев.   \n",
       "4         4  Ман ты пӣлтал,  веськат хумиюв  нэтхуньт ат ёр...   \n",
       "...     ...                                                ...   \n",
       "81141  2345  А̄нумн ка̄салахты аквтуп тамле о̄лнэ накыт ма̄...   \n",
       "81142  2346                  А̄танэ нё̄тнэ̄г юил акван-атманэ.   \n",
       "81143  2347        Тох тай, культура сака тэ̄пгалан мед а̄тим.   \n",
       "81144  2348  Тувыл Уэйтс ты музыкантыг ёт, Чарли Рич ос Фрэ...   \n",
       "81145  2349         Тох ман ро̄ви та̄ра юртанын воськасаӈквет?   \n",
       "\n",
       "                                                  source  \\\n",
       "0      Те мальчики не выполнят задание в назначенный ...   \n",
       "1        Бегая к берегу озера пришла, к воде подбежала.    \n",
       "2                              Вода прибывала на глазах    \n",
       "3            Обнюхивает нас, живыми на кладбище уносит.    \n",
       "4         Мы никогда не забудем этого честного человека.   \n",
       "...                                                  ...   \n",
       "81141  Мне кажется, что подобные случаи могут вызыват...   \n",
       "81142                    Волосы аккуратно собраны сзади.   \n",
       "81143  В общем, культуры интенсивного потребления мед...   \n",
       "81144  Затем Уэйтс отправился на гастроли с такими му...   \n",
       "81145  Но разве можно вот так просто покинуть своих д...   \n",
       "\n",
       "                                               pr_target  \\\n",
       "0      Та пыгрисит маим вармаль э̄рнэ поратэт ат верм...   \n",
       "1       Ха̄йтыматэ тӯр ва̄тан ёхтыс, вит ва̄тан ха̄йтыс.   \n",
       "2                               Вит са̄мыл сунсым о̄нтыс   \n",
       "3            Атаявев, акваг лылынг тагл ворн та тотавев.   \n",
       "4      Ман ты пӣлтал,  веськат хумиюв  нэтхуньт ат ёр...   \n",
       "...                                                  ...   \n",
       "81141  А̄нумн ка̄салахты аквтуп тамле о̄лнэ накыт ма̄...   \n",
       "81142                  А̄танэ нё̄тнэ̄г юил акван-атманэ.   \n",
       "81143        Тох тай, культура сака тэ̄пгалан мед а̄тим.   \n",
       "81144  Тувыл Уэйтс ты музыкантыг ёт, Чарли Рич ос Фрэ...   \n",
       "81145         Тох ман ро̄ви та̄ра юртанын воськасаӈквет?   \n",
       "\n",
       "                                               pr_source  \n",
       "0      Те мальчики не выполнят задание в назначенный ...  \n",
       "1         Бегая к берегу озера пришла, к воде подбежала.  \n",
       "2                               Вода прибывала на глазах  \n",
       "3             Обнюхивает нас, живыми на кладбище уносит.  \n",
       "4         Мы никогда не забудем этого честного человека.  \n",
       "...                                                  ...  \n",
       "81141  Мне кажется, что подобные случаи могут вызыват...  \n",
       "81142                    Волосы аккуратно собраны сзади.  \n",
       "81143  В общем, культуры интенсивного потребления мед...  \n",
       "81144  Затем Уэйтс отправился на гастроли с такими му...  \n",
       "81145  Но разве можно вот так просто покинуть своих д...  \n",
       "\n",
       "[81146 rows x 5 columns]"
      ]
     },
     "execution_count": 6,
     "metadata": {},
     "output_type": "execute_result"
    }
   ],
   "source": [
    "dt"
   ]
  },
  {
   "cell_type": "code",
   "execution_count": 140,
   "id": "f520500e-a7a0-4882-ab8f-6bd5acafbf6b",
   "metadata": {},
   "outputs": [],
   "source": [
    "def lemmatize_sentence(sentence):\n",
    "    def replace_symbols(text):\n",
    "        for symbol in \"!@#$%,.1234567890-/?\\'\\\"\\\\«»_-:;_…–()”\":\n",
    "        # for symbol in \"!@#$%,.1234567890/?\\'\\\"\\\\«»_:;_…()”\":\n",
    "            text = text.replace(symbol, \" \")\n",
    "        return (' '.join(text.lower().split())).split()\n",
    "    sentence = replace_symbols(sentence)\n",
    "    words = []\n",
    "    for word in sentence:\n",
    "        norm_form = uralicApi.lemmatize(word, \"mns\")\n",
    "        if len(norm_form) == 0:\n",
    "            words.append(word)\n",
    "        # elif len(norm_form) > 1:\n",
    "        #     print(norm_form, word)\n",
    "        else:\n",
    "            words.append(sorted(uralicApi.lemmatize(word, \"mns\"))[0])\n",
    "    return words"
   ]
  },
  {
   "cell_type": "code",
   "execution_count": 141,
   "id": "c08a5340-369f-41d1-81bc-7846ee3377b9",
   "metadata": {},
   "outputs": [
    {
     "data": {
      "application/vnd.jupyter.widget-view+json": {
       "model_id": "4fadbedd595f4e5cbfc7e7e912b2196d",
       "version_major": 2,
       "version_minor": 0
      },
      "text/plain": [
       "  0%|          | 0/81146 [00:00<?, ?it/s]"
      ]
     },
     "metadata": {},
     "output_type": "display_data"
    }
   ],
   "source": [
    "words = []\n",
    "for sentence in tqdm(dt.pr_target.tolist()):\n",
    "    words.extend(lemmatize_sentence(sentence))"
   ]
  },
  {
   "cell_type": "code",
   "execution_count": 142,
   "id": "ad1ffc0c-de7b-477b-abb9-3bdf3c4858ec",
   "metadata": {},
   "outputs": [
    {
     "data": {
      "text/plain": [
       "51562"
      ]
     },
     "execution_count": 142,
     "metadata": {},
     "output_type": "execute_result"
    }
   ],
   "source": [
    "words_count = Counter(words)\n",
    "len(words_count)"
   ]
  },
  {
   "cell_type": "code",
   "execution_count": 149,
   "id": "6ce13e3a-ab2d-4fc1-85b8-b17ddf408335",
   "metadata": {},
   "outputs": [
    {
     "data": {
      "application/vnd.jupyter.widget-view+json": {
       "model_id": "019be3f88c674e61be8ebb6f383d721e",
       "version_major": 2,
       "version_minor": 0
      },
      "text/plain": [
       "  0%|          | 0/51562 [00:00<?, ?it/s]"
      ]
     },
     "metadata": {},
     "output_type": "display_data"
    },
    {
     "data": {
      "text/plain": [
       "4241"
      ]
     },
     "execution_count": 149,
     "metadata": {},
     "output_type": "execute_result"
    }
   ],
   "source": [
    "words_to_delete = []\n",
    "old_words_count = copy.deepcopy(words_count)\n",
    "words = set(words_count)\n",
    "for word in tqdm(words):\n",
    "    if words_count[word] < 10:\n",
    "        words_to_delete.append(word)\n",
    "        del words_count[word]\n",
    "len(words_count)"
   ]
  },
  {
   "cell_type": "code",
   "execution_count": 152,
   "id": "0f10dece-e8c3-469f-bc7b-366bce04a71a",
   "metadata": {},
   "outputs": [],
   "source": [
    "def check_split(dt_check, proportion, delta=10):\n",
    "    dt_words = []\n",
    "    zero = []\n",
    "    l = []\n",
    "    u = []\n",
    "    unique = []\n",
    "    unique_all = []\n",
    "    for sentence in tqdm(dt_check.pr_target.tolist()):\n",
    "        dt_words.extend(lemmatize_sentence(sentence))\n",
    "    dt_words_count = Counter(dt_words)\n",
    "    dt_words = set(dt_words)\n",
    "    for word in words_count:\n",
    "        if words_count[word] * proportion > dt_words_count[word] + delta:\n",
    "            l.append(word)\n",
    "        if words_count[word] * proportion < dt_words_count[word] - delta:\n",
    "            u.append(word)\n",
    "        if dt_words_count[word] == 0:\n",
    "            zero.append(word)\n",
    "    for word in words_to_delete:\n",
    "        if word in dt_words:\n",
    "            unique.append(word)\n",
    "        if dt_words_count[word] == old_words_count[word]:\n",
    "            unique_all.append(word)\n",
    "    return l, u, unique, zero, unique_all\n",
    "        "
   ]
  },
  {
   "cell_type": "code",
   "execution_count": 153,
   "id": "1b85718a-1a4c-4b3d-a241-84f330be11fd",
   "metadata": {},
   "outputs": [],
   "source": [
    "random.seed(42)\n",
    "random_shuffled_indexes = dt.index.tolist()\n",
    "random.shuffle(random_shuffled_indexes)\n",
    "\n",
    "train_size = 65146\n",
    "val_size = 8000\n",
    "train_indexes = random_shuffled_indexes[:train_size]\n",
    "val_indexes = random_shuffled_indexes[train_size: train_size + val_size]\n",
    "test_indexes = random_shuffled_indexes[train_size + val_size:]"
   ]
  },
  {
   "cell_type": "code",
   "execution_count": 155,
   "id": "c8a4daf7-bd7e-423f-8826-bf312a8d0150",
   "metadata": {},
   "outputs": [
    {
     "data": {
      "application/vnd.jupyter.widget-view+json": {
       "model_id": "68d84c13d7b64d3dae189e7395a4cbd8",
       "version_major": 2,
       "version_minor": 0
      },
      "text/plain": [
       "  0%|          | 0/65146 [00:00<?, ?it/s]"
      ]
     },
     "metadata": {},
     "output_type": "display_data"
    },
    {
     "data": {
      "text/plain": [
       "(82, 74, 40655, 0, 33514)"
      ]
     },
     "execution_count": 155,
     "metadata": {},
     "output_type": "execute_result"
    }
   ],
   "source": [
    "l_train, u_train, unique_train, zero_train, unique_all_train = check_split(dt.loc[train_indexes], len(train_indexes) / len(dt))\n",
    "len(l_train), len(u_train), len(unique_train), len(zero_train), len(unique_all_train)"
   ]
  },
  {
   "cell_type": "code",
   "execution_count": 156,
   "id": "aa03498f-e83e-4c00-ab41-9e32f5af5fac",
   "metadata": {},
   "outputs": [
    {
     "data": {
      "application/vnd.jupyter.widget-view+json": {
       "model_id": "626cc7c9facd4a10b6b6cda4585ec3fc",
       "version_major": 2,
       "version_minor": 0
      },
      "text/plain": [
       "  0%|          | 0/8000 [00:00<?, ?it/s]"
      ]
     },
     "metadata": {},
     "output_type": "display_data"
    },
    {
     "data": {
      "text/plain": [
       "(42, 49, 7491, 501, 3290)"
      ]
     },
     "execution_count": 156,
     "metadata": {},
     "output_type": "execute_result"
    }
   ],
   "source": [
    "l_val, u_val, unique_val, zero_val, unique_all_val = check_split(dt.loc[val_indexes], len(val_indexes) / len(dt))\n",
    "len(l_val), len(u_val), len(unique_val), len(zero_val), len(unique_all_val)"
   ]
  },
  {
   "cell_type": "code",
   "execution_count": 157,
   "id": "703902bc-0781-4364-a693-b58a4399e72c",
   "metadata": {},
   "outputs": [
    {
     "data": {
      "application/vnd.jupyter.widget-view+json": {
       "model_id": "8753c0ea71e1490ba3d84b44a6abe22d",
       "version_major": 2,
       "version_minor": 0
      },
      "text/plain": [
       "  0%|          | 0/8000 [00:00<?, ?it/s]"
      ]
     },
     "metadata": {},
     "output_type": "display_data"
    },
    {
     "data": {
      "text/plain": [
       "(46, 55, 7455, 543, 3227)"
      ]
     },
     "execution_count": 157,
     "metadata": {},
     "output_type": "execute_result"
    }
   ],
   "source": [
    "l_test, u_test, unique_test, zero_test, unique_all_test = check_split(dt.loc[test_indexes], len(test_indexes) / len(dt))\n",
    "len(l_test), len(u_test), len(unique_test), len(zero_test), len(unique_all_test)"
   ]
  },
  {
   "cell_type": "code",
   "execution_count": 159,
   "id": "57dbb191-76bc-4d4f-b47e-ce68233ebfb7",
   "metadata": {},
   "outputs": [],
   "source": [
    "dt.loc[train_indexes].to_csv(\"train.csv\")\n",
    "dt.loc[val_indexes].to_csv(\"val.csv\")\n",
    "dt.loc[test_indexes].to_csv(\"test.csv\")"
   ]
  }
 ],
 "metadata": {
  "kernelspec": {
   "display_name": "Python 3 (ipykernel)",
   "language": "python",
   "name": "python3"
  },
  "language_info": {
   "codemirror_mode": {
    "name": "ipython",
    "version": 3
   },
   "file_extension": ".py",
   "mimetype": "text/x-python",
   "name": "python",
   "nbconvert_exporter": "python",
   "pygments_lexer": "ipython3",
   "version": "3.11.9"
  }
 },
 "nbformat": 4,
 "nbformat_minor": 5
}
