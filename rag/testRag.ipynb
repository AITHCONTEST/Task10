{
 "cells": [
  {
   "cell_type": "code",
   "execution_count": 1,
   "id": "909c5050-9683-49c8-9e65-d02d5483f179",
   "metadata": {},
   "outputs": [
    {
     "name": "stdout",
     "output_type": "stream",
     "text": [
      "BLEU score: 41.1134\n",
      "CHRF++ score: 81.1120\n"
     ]
    }
   ],
   "source": [
    "import sacrebleu\n",
    "\n",
    "# Define the reference and hypothesis sentences\n",
    "reference = [\"This is a test sentence.\"]\n",
    "hypothesis = \"This is a test sentence with a small error.\"\n",
    "\n",
    "# Calculate BLEU score\n",
    "bleu_score = sacrebleu.sentence_bleu(hypothesis, reference)\n",
    "print(f\"BLEU score: {bleu_score.score:.4f}\")\n",
    "\n",
    "# Calculate CHRF++ score\n",
    "chrfpp_score = sacrebleu.sentence_chrf(hypothesis, reference)\n",
    "print(f\"CHRF++ score: {chrfpp_score.score:.4f}\")"
   ]
  },
  {
   "cell_type": "code",
   "execution_count": 129,
   "id": "a59b4359-5919-451f-b5b6-cb3c0b56df5c",
   "metadata": {},
   "outputs": [],
   "source": [
    "import copy\n",
    "import random\n",
    "import numpy as np\n",
    "import pandas as pd\n",
    "\n",
    "from pymystem3 import Mystem\n",
    "from tqdm.notebook import tqdm\n",
    "from uralicNLP import uralicApi\n",
    "from collections import Counter"
   ]
  },
  {
   "cell_type": "code",
   "execution_count": 130,
   "id": "b5c58f90-fdf1-42be-9925-c2d694a2bb67",
   "metadata": {},
   "outputs": [],
   "source": [
    "vocab_1 = pd.read_csv(\"DICTIONARY_MANS_RUS_new.csv\")\n",
    "vocab_2 = pd.read_csv(\"DICTIONARY_MANS_RUS_2.csv\")"
   ]
  },
  {
   "cell_type": "code",
   "execution_count": 131,
   "id": "a7255790-d19e-48b5-a59e-612646bd4b62",
   "metadata": {},
   "outputs": [
    {
     "name": "stdout",
     "output_type": "stream",
     "text": [
      "5769\n",
      "5766\n"
     ]
    }
   ],
   "source": [
    "print(len(vocab_2))\n",
    "vocab_2=vocab_2.dropna(subset=[\"rus\"])\n",
    "print(len(vocab_2))"
   ]
  },
  {
   "cell_type": "code",
   "execution_count": 132,
   "id": "1b4fee12-db6e-42b6-9cc0-9d3300b2d6de",
   "metadata": {},
   "outputs": [
    {
     "data": {
      "text/plain": [
       "(mans                     кар\n",
       " rus     III. длинный предмет\n",
       " note                     NaN\n",
       " Name: 1140, dtype: object,\n",
       " mans         кар\n",
       " rus     II. очко\n",
       " note         NaN\n",
       " Name: 1141, dtype: object,\n",
       " mans         кар\n",
       " rus     I. дятел\n",
       " note         NaN\n",
       " Name: 1143, dtype: object)"
      ]
     },
     "execution_count": 132,
     "metadata": {},
     "output_type": "execute_result"
    }
   ],
   "source": [
    "vocab_2.loc[1140], vocab_2.loc[1141], vocab_2.loc[1143]"
   ]
  },
  {
   "cell_type": "code",
   "execution_count": 133,
   "id": "36af9e87-5d22-433e-b068-b2ae79081bd7",
   "metadata": {},
   "outputs": [],
   "source": [
    "rus_translate = vocab_2.rus.tolist()\n",
    "mans_translate = vocab_2.mans.tolist()\n",
    "note_translate = vocab_2.note.tolist()"
   ]
  },
  {
   "cell_type": "code",
   "execution_count": 134,
   "id": "19b1d1e0-f15d-44f3-9cb4-e5fa590a0d1b",
   "metadata": {},
   "outputs": [],
   "source": [
    "# rus_translate = vocab_2.rus.tolist()\n",
    "for i in range(len(rus_translate)):\n",
    "    if \"гл. прист.\" in rus_translate[i]:\n",
    "        # print(i)\n",
    "        rus_translate[i] = rus_translate[i].replace(\"гл. прист.\", note_translate[i])\n",
    "        note_translate[i] = \"\"\n",
    "    if \"гл. приставка\" in rus_translate[i]:\n",
    "        rus_translate[i] = rus_translate[i].replace(\"гл. приставка\", note_translate[i])\n",
    "        note_translate[i] = \"\"\n",
    "    if \"гл.прист.\" in rus_translate[i]:\n",
    "        # print(i)\n",
    "        rus_translate[i] = rus_translate[i].replace(\"гл.прист.\", note_translate[i])\n",
    "        note_translate[i] = \"\""
   ]
  },
  {
   "cell_type": "code",
   "execution_count": 135,
   "id": "0b43a46e-ca75-4c20-a2e6-03025ed1367e",
   "metadata": {},
   "outputs": [],
   "source": [
    "for i in range(len(rus_translate)):\n",
    "    for n in [\"III.\", \"II.\", \"I.\", \"I\", \"II\", \"III\"]:\n",
    "        # print(i)\n",
    "        if n in rus_translate[i]:\n",
    "            # print(i)\n",
    "            rus_translate[i] = rus_translate[i].replace(n, \"\")\n",
    "        if not isinstance(note_translate[i], float):\n",
    "            # print(note_translate[i])\n",
    "            if n in note_translate[i]:\n",
    "                note_translate[i] = note_translate[i].replace(n, \"\")\n",
    "    rus_translate[i] = rus_translate[i].strip()\n",
    "    if not isinstance(note_translate[i], float):\n",
    "        note_translate[i] = note_translate[i].strip()"
   ]
  },
  {
   "cell_type": "code",
   "execution_count": 136,
   "id": "df4e166a-f6e4-4bcb-a1a6-b571759aabf4",
   "metadata": {},
   "outputs": [],
   "source": [
    "bad = [\"4)\", \") 2)\", \"),2)\", \") ,2)\", \") 3)\",\");2)\", \"); 2)\", \"2)\", \"),1)\", \");\", \")\"]\n",
    "for i in range(len(note_translate)):\n",
    "    if isinstance(note_translate[i], float):\n",
    "        continue\n",
    "    clean_last = False\n",
    "    for n in bad:\n",
    "        if n in note_translate[i]:\n",
    "            # print(note_translate[i])\n",
    "            note_translate[i] = note_translate[i].replace(n, \",\")\n",
    "            clean_last = True\n",
    "    if clean_last:\n",
    "        # print(note_translate[i])\n",
    "        res = note_translate[i].split(\",\")[:-1]\n",
    "        note_translate[i] = []\n",
    "        for elem in res:\n",
    "            if elem != \" \" or elem != \"\":\n",
    "                note_translate[i].append(elem)\n",
    "        note_translate[i] = (\", \".join(note_translate[i])).strip()\n",
    "        if note_translate[i][-1] == \",\":\n",
    "            note_translate[i] = note_translate[i][:-1]\n",
    "        # print(\"FINAL:\", note_translate[i])"
   ]
  },
  {
   "cell_type": "code",
   "execution_count": 137,
   "id": "a0c46f97-ec37-480a-8da6-e379c2e3aa4e",
   "metadata": {},
   "outputs": [],
   "source": [
    "vocab_2.rus = rus_translate\n",
    "vocab_2.mans = mans_translate\n",
    "vocab_2.note = note_translate"
   ]
  },
  {
   "cell_type": "code",
   "execution_count": 138,
   "id": "ab938e05-620b-404c-b92e-ecdca49212e2",
   "metadata": {},
   "outputs": [],
   "source": [
    "rus_translate = vocab_1.rus.tolist()\n",
    "mans_translate = vocab_1.mans.tolist()\n",
    "note_translate = vocab_1.note.tolist()"
   ]
  },
  {
   "cell_type": "code",
   "execution_count": 139,
   "id": "adef78ae-a6b1-4783-bf00-081f00c6afbd",
   "metadata": {},
   "outputs": [],
   "source": [
    "rus_translate[47] = \"один\"\n",
    "note_translate[47] = \"акв хум - один мужчина\"\n",
    "\n",
    "rus_translate[903] = \"ещё\"\n",
    "note_translate[903] = \"неа̄сюм иӈыт ёхты - отец ещё не приехал\"\n",
    "\n",
    "vocab_1.rus = rus_translate\n",
    "vocab_1.mans = mans_translate\n",
    "vocab_1.note = note_translate"
   ]
  },
  {
   "cell_type": "code",
   "execution_count": 158,
   "id": "e327a445-6098-42b1-9d71-11c8a63b68ce",
   "metadata": {},
   "outputs": [],
   "source": [
    "vocab = pd.concat([vocab_1, vocab_2])"
   ]
  },
  {
   "cell_type": "code",
   "execution_count": 159,
   "id": "3ddcbfb6-356b-422a-8762-06766695b717",
   "metadata": {},
   "outputs": [
    {
     "data": {
      "text/plain": [
       "'Хоса ман вāти минасыт, э̄тэ минэ̄гт, хо̄талэ минэ̄гт акваг.'"
      ]
     },
     "execution_count": 159,
     "metadata": {},
     "output_type": "execute_result"
    }
   ],
   "source": [
    "dt = pd.read_csv(\"../dataset/train.csv\")\n",
    "dt.loc[1].target"
   ]
  },
  {
   "cell_type": "code",
   "execution_count": 160,
   "id": "9568e4aa-2d70-487f-8649-e000364c8aff",
   "metadata": {},
   "outputs": [],
   "source": [
    "rus_translate = vocab.rus.tolist()\n",
    "mans_translate = vocab.mans.tolist()\n",
    "note_translate = vocab.note.tolist()"
   ]
  },
  {
   "cell_type": "code",
   "execution_count": 161,
   "id": "24e55af9-f144-4c05-a56c-c51a33e8b41d",
   "metadata": {},
   "outputs": [],
   "source": [
    "words = {}\n",
    "for i in range(len(rus_translate)):\n",
    "    s = f\"{mans_translate[i]}@@@{rus_translate[i]}\"\n",
    "    if s not in words:\n",
    "        words[s] = []\n",
    "    if isinstance(note_translate[i], float):\n",
    "        continue\n",
    "    words[s].append(note_translate[i])\n",
    "\n",
    "rus_translate = []\n",
    "mans_translate = []\n",
    "note_translate = []\n",
    "for key in words:\n",
    "    m, r = key.split(\"@@@\")\n",
    "    mans_translate.append(m)\n",
    "    rus_translate.append(r)\n",
    "    if len(words[key]) > 0:\n",
    "        note_translate.append(\", \".join(words[key]))\n",
    "    else:\n",
    "        note_translate.append(np.nan)"
   ]
  },
  {
   "cell_type": "code",
   "execution_count": 162,
   "id": "3517db23-6107-4b34-b466-fb6946c1f313",
   "metadata": {},
   "outputs": [],
   "source": [
    "data = {'mans': mans_translate,\n",
    "        'rus': rus_translate,\n",
    "        'note': note_translate}\n",
    "\n",
    "vocab = pd.DataFrame(data)"
   ]
  },
  {
   "cell_type": "code",
   "execution_count": 172,
   "id": "bb88dcb8-93eb-4c1a-9665-053a36a17f77",
   "metadata": {},
   "outputs": [],
   "source": [
    "vocab_mans_dict = {}\n",
    "vocab_rus_dict = {}\n",
    "full_rus_dict = {}\n",
    "ids = vocab.index\n",
    "mans = vocab.mans.tolist()\n",
    "rus = vocab.rus.tolist()\n",
    "note = vocab.note.tolist()"
   ]
  },
  {
   "cell_type": "code",
   "execution_count": 173,
   "id": "73b41b04-256a-46bc-b00b-4497a548a54c",
   "metadata": {},
   "outputs": [],
   "source": [
    "for i in range(len(ids)):\n",
    "    rus_word = rus[i]\n",
    "    mans_word = mans[i]\n",
    "    if note[i] is not np.nan:\n",
    "        rus_word += f\" ({note[i]})\"\n",
    "    if mans_word not in vocab_mans_dict:\n",
    "        vocab_mans_dict[mans_word] = []\n",
    "    if rus_word not in vocab_rus_dict:\n",
    "        vocab_rus_dict[rus_word] = []\n",
    "\n",
    "    vocab_mans_dict[mans_word].append(rus_word)\n",
    "    vocab_rus_dict[rus_word].append(mans_word)\n",
    "    "
   ]
  },
  {
   "cell_type": "code",
   "execution_count": 174,
   "id": "13932767-97d3-43ba-a400-1188cdb8fc98",
   "metadata": {},
   "outputs": [],
   "source": [
    "for i in range(len(ids)):\n",
    "    rus_word = rus[i]\n",
    "    words = rus_word.split()\n",
    "    if note[i] is not np.nan:\n",
    "        rus_word += f\" ({note[i]})\"\n",
    "    for word in words:\n",
    "        if word in [\"с\", \"но\", \"и\", \"а\", \"что\", \"в\", \"на\", \"от\", \"не\", \"то\", \"это\", \"тот\", \"же\", \"это\"]:\n",
    "            continue\n",
    "        if word not in full_rus_dict:\n",
    "            full_rus_dict[word] = []\n",
    "        add_word = True\n",
    "        for item in full_rus_dict[word]:\n",
    "            if item[0] == rus_word:\n",
    "                add_word = False\n",
    "        if add_word:\n",
    "            full_rus_dict[word].append([rus_word, vocab_rus_dict[rus_word], i])"
   ]
  },
  {
   "cell_type": "code",
   "execution_count": 175,
   "id": "0e692fe0-4041-4e75-9e62-6c6cb2dcfe96",
   "metadata": {},
   "outputs": [],
   "source": [
    "# full_rus_dict"
   ]
  },
  {
   "cell_type": "code",
   "execution_count": 176,
   "id": "b8e9e8f4-ff6e-42f1-b436-0a75707f5d2a",
   "metadata": {},
   "outputs": [],
   "source": [
    "def replace_symbols(text, f=True):\n",
    "    for symbol in \"!@#$%,.1234567890/?\\'\\\"\\\\«»_:;_…()”\":\n",
    "        text = text.replace(symbol, \" \")\n",
    "    first_words = set((' '.join(text.lower().split())).split())\n",
    "    \n",
    "    for symbol in \"!@#$%,.1234567890-/?\\'\\\"\\\\«»_-:;_…–()”\":\n",
    "        text = text.replace(symbol, \" \")\n",
    "    second_words = set((' '.join(text.lower().split())).split())\n",
    "    return list(first_words | second_words)\n",
    "    \n",
    "def lemmatize_mans_sentence(sentence):\n",
    "    sentence = replace_symbols(sentence)\n",
    "    words = []\n",
    "    for word in sentence:\n",
    "        norm_form = uralicApi.lemmatize(word, \"mns\")\n",
    "        if len(norm_form) == 0:\n",
    "            words.append(word)\n",
    "        else:\n",
    "            words.extend(sorted(uralicApi.lemmatize(word, \"mns\")))\n",
    "    return list(set(words) | set(sentence))\n",
    "\n",
    "system = Mystem()\n",
    "def lemmatize_rus_sentence(sentence):\n",
    "    lemmas = system.lemmatize(sentence)\n",
    "    lemmas_clean = []\n",
    "    for word in lemmas:\n",
    "        if word in \"!@#$%,.1234567890-/?\\'\\\"\\\\«»_-:;_…–()”\":\n",
    "            continue\n",
    "        lemmas_clean.append(word)\n",
    "    sentence = replace_symbols(sentence)\n",
    "    return list(set(\" \".join(lemmas_clean).split()) | set(sentence))"
   ]
  },
  {
   "cell_type": "code",
   "execution_count": 177,
   "id": "bda8d262-b04b-4a23-a161-727f69b7b845",
   "metadata": {},
   "outputs": [],
   "source": [
    "def get_rus_translate(words, vocab, sep=\" | \"):\n",
    "    translate = []\n",
    "    for word in words:\n",
    "        if word in vocab:\n",
    "            translate.append(word + \" - \" + \", \".join(vocab[word]))\n",
    "    return sep.join(translate)"
   ]
  },
  {
   "cell_type": "code",
   "execution_count": 178,
   "id": "ae7da775-d2b1-428b-a479-da9939d43499",
   "metadata": {},
   "outputs": [
    {
     "name": "stdout",
     "output_type": "stream",
     "text": [
      "Хоса ман вāти минасыт, э̄тэ минэ̄гт, хо̄талэ минэ̄гт акваг.\n",
      "Долго ли, коротко ли едут, всю ночь едут, днём едут.\n"
     ]
    },
    {
     "data": {
      "text/plain": [
       "'э̄т - ночь | акваг - всегда, повсюду, постоянно, навсегда, везде, всюду | ва̄ти - короткий, краткий | хоса - длинный, далёкий, долго, длинный  далёкий | минуӈкве - идти, ехать, лететь, пойти, уходить | хо̄тал - день, солнце'"
      ]
     },
     "execution_count": 178,
     "metadata": {},
     "output_type": "execute_result"
    }
   ],
   "source": [
    "i = 1\n",
    "print(dt.pr_target[i])\n",
    "print(dt.pr_source[i])\n",
    "get_rus_translate(lemmatize_mans_sentence(dt.pr_target[i]), vocab_mans_dict)"
   ]
  },
  {
   "cell_type": "code",
   "execution_count": 179,
   "id": "e9b9a1c5-828a-4bb8-876e-32ef860c89f5",
   "metadata": {},
   "outputs": [],
   "source": [
    "def get_mans_translate(words, vocab, sep=\" | \"):\n",
    "    translate = []\n",
    "    used = set()\n",
    "    for word in words:\n",
    "        if word in vocab:\n",
    "            for example in vocab[word]:\n",
    "                if example[2] not in used:\n",
    "                    translate.append(example[0] + \" - \" + \", \".join(example[1]))\n",
    "                    used.add(example[2])\n",
    "    return sep.join(translate)"
   ]
  },
  {
   "cell_type": "code",
   "execution_count": 180,
   "id": "7fc62c8c-9aee-4edb-967c-21aefdfdb5c9",
   "metadata": {},
   "outputs": [
    {
     "name": "stdout",
     "output_type": "stream",
     "text": [
      "То̄нт тувыл тотум пормасанэ̄н ань тэ̄н суссылтасанэ̄н ос са̄всыр тэ̄лат урыл ма̄навн потыртасы̄г.\n",
      "Тогда они принесли  экспонаты  и много интересного об этом рассказали\n"
     ]
    },
    {
     "data": {
      "text/plain": [
       "'они идут под звуки горна - Горн рохтан суил минэ̄гыт | они (двое) - тэ̄н | тогда - мо̄лал, то̄нт, тōнт | тогда же - аквтапорат, аквтаэ̄ртын | приносить жертву - йирхатуӈкве | приносить - тыг-тотыгла̄луӈкве | много - са̄в | у нас много учёных - ма̄н ма̄вт са̄в учё̄ный ōлы | рассказывать сказки - мо̄йтуӈкве | рассказывать - потырта̄лыглаӈкве, потыртаӈкве | говорить  беседовать, разговаривать  рассказывать - потыртаӈкве | интересный - осьхолиӈ, пӯмасьӈ, пӯмасиӈ | интерес  шутка;  интересный  смешной - осхоль | интересный  странный  шутливый - осьхолыӈ'"
      ]
     },
     "execution_count": 180,
     "metadata": {},
     "output_type": "execute_result"
    }
   ],
   "source": [
    "i = 1500\n",
    "print(dt.pr_target[i])\n",
    "print(dt.pr_source[i])\n",
    "get_mans_translate(lemmatize_rus_sentence(dt.pr_source[i]), full_rus_dict)"
   ]
  },
  {
   "cell_type": "code",
   "execution_count": 181,
   "id": "05de5064-db82-4174-9dea-a69885abbca0",
   "metadata": {},
   "outputs": [
    {
     "data": {
      "text/plain": [
       "['виӈкве',\n",
       " 'хот-виӈкве',\n",
       " 'хот-няртумтаӈкве',\n",
       " 'хот-виӈкве (ам хот-вы̄гум, наӈ хот-вы̄гын, нэ̄н хот-выгы̄н, на̄н хот-выгы̄н)']"
      ]
     },
     "execution_count": 181,
     "metadata": {},
     "output_type": "execute_result"
    }
   ],
   "source": [
    "vocab_rus_dict[\"взять\"]"
   ]
  },
  {
   "cell_type": "code",
   "execution_count": 162,
   "id": "a6bd4af2-e9f0-4aba-ae3d-e3af5e55f2a7",
   "metadata": {},
   "outputs": [
    {
     "data": {
      "text/plain": [
       "[['взять', ['виӈкве', 'хот-виӈкве'], 469],\n",
       " ['взять (с собой)', ['ёт-виӈкве'], 845]]"
      ]
     },
     "execution_count": 162,
     "metadata": {},
     "output_type": "execute_result"
    }
   ],
   "source": [
    "full_rus_dict[\"взять\"]"
   ]
  },
  {
   "cell_type": "code",
   "execution_count": 92,
   "id": "e4c8c955-97b8-42ee-b29f-8a6808279b26",
   "metadata": {},
   "outputs": [
    {
     "data": {
      "text/plain": [
       "['раму',\n",
       " 'сном',\n",
       " 'мылаm',\n",
       " 'рама',\n",
       " 'сон',\n",
       " 'мама-мылаm',\n",
       " 'вечер',\n",
       " 'перед',\n",
       " 'мама',\n",
       " ',',\n",
       " 'каждый']"
      ]
     },
     "execution_count": 92,
     "metadata": {},
     "output_type": "execute_result"
    }
   ],
   "source": [
    "text = \"Мама-мылаm, раму каждый вечер перед сном.\"\n",
    "lemmatize_rus_sentence(text)"
   ]
  },
  {
   "cell_type": "code",
   "execution_count": 109,
   "id": "9ef83e5b-3f30-46ff-9d28-6ebe4dbcab28",
   "metadata": {},
   "outputs": [
    {
     "data": {
      "text/plain": [
       "(['ке', 'о̄лыс', 'о̄луӈкве', 'пуӈк', 'пуӈке', 'мēкыс'],\n",
       " 'Если голова его ослабнет:',\n",
       " 'Пуӈке ке мēкыс о̄лыс:')"
      ]
     },
     "execution_count": 109,
     "metadata": {},
     "output_type": "execute_result"
    }
   ],
   "source": [
    "lemmatize_mans_sentence(dt.pr_target[0]), dt.pr_source[0], dt.pr_target[0]"
   ]
  },
  {
   "cell_type": "code",
   "execution_count": 93,
   "id": "c9b4d067-c460-45f6-bc8d-5a150c137e2b",
   "metadata": {},
   "outputs": [
    {
     "data": {
      "text/plain": [
       "(['ва̄ти',\n",
       "  'вāти',\n",
       "  'хо̄талэ',\n",
       "  'хоса',\n",
       "  'э̄т',\n",
       "  'ман',\n",
       "  'акваг',\n",
       "  'минуӈкве',\n",
       "  'минэ̄гт',\n",
       "  'минасыт',\n",
       "  'хо̄тал',\n",
       "  'э̄тэ'],\n",
       " 'Хоса ман вāти минасыт, э̄тэ минэ̄гт, хо̄талэ минэ̄гт акваг.')"
      ]
     },
     "execution_count": 93,
     "metadata": {},
     "output_type": "execute_result"
    }
   ],
   "source": [
    "lemmatize_mans_sentence(dt.pr_target[1]), dt.pr_target[1]"
   ]
  },
  {
   "cell_type": "code",
   "execution_count": 94,
   "id": "08a20a8c-cd7c-4b95-ac2f-2f664ce749d3",
   "metadata": {},
   "outputs": [
    {
     "data": {
      "text/plain": [
       "['ва̄ти',\n",
       " 'вāти',\n",
       " 'хо̄талэ',\n",
       " 'хоса',\n",
       " 'э̄т',\n",
       " 'ман',\n",
       " 'акваг',\n",
       " 'минуӈкве',\n",
       " 'минэ̄гт',\n",
       " 'минасыт',\n",
       " 'хо̄тал',\n",
       " 'э̄тэ']"
      ]
     },
     "execution_count": 94,
     "metadata": {},
     "output_type": "execute_result"
    }
   ],
   "source": [
    "lemmatize_mans_sentence(dt.pr_target[1])"
   ]
  },
  {
   "cell_type": "code",
   "execution_count": 101,
   "id": "75fc1e30-bcdf-4c1f-b7bc-574c3d129468",
   "metadata": {},
   "outputs": [
    {
     "data": {
      "text/plain": [
       "('а', 'ā')"
      ]
     },
     "execution_count": 101,
     "metadata": {},
     "output_type": "execute_result"
    }
   ],
   "source": [
    "lemmatize_mans_sentence(dt.pr_target[1])[0][1], lemmatize_mans_sentence(dt.pr_target[1])[1][1]"
   ]
  },
  {
   "cell_type": "code",
   "execution_count": 67,
   "id": "0b1b887a-82ba-4e0d-b8cb-91f35a43cbb0",
   "metadata": {},
   "outputs": [
    {
     "data": {
      "text/plain": [
       "((['а̄гиӈпы̄г', 'кол', 'а̄гиӈ', 'ёмас', 'пы̄г', 'пыгыӈ'],\n",
       "  ['а̄гиӈ-пыгыӈ', 'кол', 'а̄гиӈ', 'ёмас', 'пыгыӈ']),\n",
       " 'А̄гиӈ-пыгыӈ ёмас кол.')"
      ]
     },
     "execution_count": 67,
     "metadata": {},
     "output_type": "execute_result"
    }
   ],
   "source": [
    "i = 3\n",
    "lemmatize_mans_sentence(dt.pr_target[i]), dt.pr_target[i]"
   ]
  },
  {
   "cell_type": "code",
   "execution_count": 68,
   "id": "4d83c69d-5b6a-40b1-ae11-e5e8d51747de",
   "metadata": {},
   "outputs": [
    {
     "name": "stdout",
     "output_type": "stream",
     "text": [
      "['мама', '-', 'мыть', ' ', 'рама', ' ', 'каждый', ' ', 'вечер', ' ', 'перед', ' ', 'сон', '.', '\\n']\n"
     ]
    }
   ],
   "source": [
    "from pymystem3 import Mystem\n",
    "\n",
    "m = Mystem()\n",
    "text = \"Мама-мыла раму каждый вечер перед сном.\"\n",
    "lemmas = m.lemmatize(text)\n",
    "print(lemmas)"
   ]
  },
  {
   "cell_type": "code",
   "execution_count": 69,
   "id": "96a383fd-a1d3-4f38-93cd-0750c39ac8ac",
   "metadata": {},
   "outputs": [
    {
     "data": {
      "text/plain": [
       "['раму', 'мыла', 'сном', 'вечер', 'мама', 'мама-мыла', 'перед', 'каждый']"
      ]
     },
     "execution_count": 69,
     "metadata": {},
     "output_type": "execute_result"
    }
   ],
   "source": [
    "replace_symbols(text)"
   ]
  },
  {
   "cell_type": "code",
   "execution_count": null,
   "id": "08dba9c0-7493-4816-bea4-b391d4063197",
   "metadata": {},
   "outputs": [],
   "source": []
  },
  {
   "cell_type": "code",
   "execution_count": null,
   "id": "1046b068-dd17-4a75-acdc-bc25d374927d",
   "metadata": {},
   "outputs": [],
   "source": []
  }
 ],
 "metadata": {
  "kernelspec": {
   "display_name": "Python 3 (ipykernel)",
   "language": "python",
   "name": "python3"
  },
  "language_info": {
   "codemirror_mode": {
    "name": "ipython",
    "version": 3
   },
   "file_extension": ".py",
   "mimetype": "text/x-python",
   "name": "python",
   "nbconvert_exporter": "python",
   "pygments_lexer": "ipython3",
   "version": "3.11.9"
  }
 },
 "nbformat": 4,
 "nbformat_minor": 5
}
