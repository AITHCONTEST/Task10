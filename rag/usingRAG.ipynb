{
 "cells": [
  {
   "cell_type": "code",
   "execution_count": 1,
   "id": "2ec2e704-2d4d-4c50-a769-53d0eea645de",
   "metadata": {},
   "outputs": [],
   "source": [
    "import pandas as pd\n",
    "\n",
    "from tqdm.notebook import tqdm"
   ]
  },
  {
   "cell_type": "code",
   "execution_count": 2,
   "id": "f0135038-9a80-4562-b93d-ec622afa8b64",
   "metadata": {},
   "outputs": [],
   "source": [
    "from vocab_rag import get_rus_translate, get_mans_translate\n",
    "\n",
    "%load_ext autoreload\n",
    "%autoreload 2"
   ]
  },
  {
   "cell_type": "code",
   "execution_count": 3,
   "id": "7fbafa9b-22af-4996-9257-da9f3f9787ba",
   "metadata": {},
   "outputs": [],
   "source": [
    "def prepare_dataset(path, separator=\"<VOCAB>\"):\n",
    "    dt = pd.read_csv(path)\n",
    "    mans = dt.pr_target.tolist()\n",
    "    rus = dt.pr_source.tolist()\n",
    "    target = []\n",
    "    source = []\n",
    "    for i in tqdm(range(len(mans))):\n",
    "        source.append(separator.join([get_rus_translate(mans[i]), mans[i]]))\n",
    "        target.append(rus[i])\n",
    "    \n",
    "    for i in tqdm(range(len(rus))):\n",
    "        source.append(separator.join([get_mans_translate(rus[i]), rus[i]]))\n",
    "        target.append(mans[i])\n",
    "\n",
    "    data = {'source': source,\n",
    "        'target': target}\n",
    "\n",
    "    data = pd.DataFrame(data)\n",
    "    name = \".\".join(path.split(\".\")[:-1])\n",
    "    name += \"VOCAB.csv\"\n",
    "    data.to_csv(name)"
   ]
  },
  {
   "cell_type": "code",
   "execution_count": 4,
   "id": "545ba56a-7bd3-4134-bcd8-0e3c98e4e5fb",
   "metadata": {},
   "outputs": [
    {
     "data": {
      "application/vnd.jupyter.widget-view+json": {
       "model_id": "faffa3172f0f4789bbb92022f2b940c7",
       "version_major": 2,
       "version_minor": 0
      },
      "text/plain": [
       "  0%|          | 0/8000 [00:00<?, ?it/s]"
      ]
     },
     "metadata": {},
     "output_type": "display_data"
    },
    {
     "data": {
      "application/vnd.jupyter.widget-view+json": {
       "model_id": "d17c6c13197a474783fb9cfc4a3a8108",
       "version_major": 2,
       "version_minor": 0
      },
      "text/plain": [
       "  0%|          | 0/8000 [00:00<?, ?it/s]"
      ]
     },
     "metadata": {},
     "output_type": "display_data"
    },
    {
     "data": {
      "application/vnd.jupyter.widget-view+json": {
       "model_id": "c4753bfd4dc446259f61aa52776281a0",
       "version_major": 2,
       "version_minor": 0
      },
      "text/plain": [
       "  0%|          | 0/8000 [00:00<?, ?it/s]"
      ]
     },
     "metadata": {},
     "output_type": "display_data"
    },
    {
     "data": {
      "application/vnd.jupyter.widget-view+json": {
       "model_id": "45e87d1ac6564dcb93ae122e41d214e6",
       "version_major": 2,
       "version_minor": 0
      },
      "text/plain": [
       "  0%|          | 0/8000 [00:00<?, ?it/s]"
      ]
     },
     "metadata": {},
     "output_type": "display_data"
    },
    {
     "data": {
      "application/vnd.jupyter.widget-view+json": {
       "model_id": "98d8a568f4cd4b5591bbb00b2b446a79",
       "version_major": 2,
       "version_minor": 0
      },
      "text/plain": [
       "  0%|          | 0/64892 [00:00<?, ?it/s]"
      ]
     },
     "metadata": {},
     "output_type": "display_data"
    },
    {
     "data": {
      "application/vnd.jupyter.widget-view+json": {
       "model_id": "ebd03f1b08214b5ab9dbf7cf7e90c251",
       "version_major": 2,
       "version_minor": 0
      },
      "text/plain": [
       "  0%|          | 0/64892 [00:00<?, ?it/s]"
      ]
     },
     "metadata": {},
     "output_type": "display_data"
    }
   ],
   "source": [
    "prepare_dataset(\"../dataset/test.csv\")\n",
    "prepare_dataset(\"../dataset/val.csv\")\n",
    "prepare_dataset(\"../dataset/train.csv\")"
   ]
  },
  {
   "cell_type": "code",
   "execution_count": null,
   "id": "3713de5a-db64-43e0-8dfd-8e017028c673",
   "metadata": {},
   "outputs": [],
   "source": []
  }
 ],
 "metadata": {
  "kernelspec": {
   "display_name": "Python 3 (ipykernel)",
   "language": "python",
   "name": "python3"
  },
  "language_info": {
   "codemirror_mode": {
    "name": "ipython",
    "version": 3
   },
   "file_extension": ".py",
   "mimetype": "text/x-python",
   "name": "python",
   "nbconvert_exporter": "python",
   "pygments_lexer": "ipython3",
   "version": "3.11.9"
  }
 },
 "nbformat": 4,
 "nbformat_minor": 5
}
