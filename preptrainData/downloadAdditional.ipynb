{
 "cells": [
  {
   "cell_type": "code",
   "execution_count": 10,
   "id": "5642a71b-0c34-4598-b12d-a9d542a6a03a",
   "metadata": {},
   "outputs": [],
   "source": [
    "import pandas as pd\n",
    "\n",
    "df = pd.read_parquet(\"hf://datasets/AigizK/mari-russian-parallel-corpora/data/train-00000-of-00001.parquet\")"
   ]
  },
  {
   "cell_type": "code",
   "execution_count": 11,
   "id": "b65ff6c4-d986-4845-acdf-b1b5f432e823",
   "metadata": {},
   "outputs": [],
   "source": [
    "df.to_csv(\"dataMans/mhr-rus.csv\")"
   ]
  },
  {
   "cell_type": "code",
   "execution_count": 4,
   "id": "7a47bd1e-f8f0-491c-ad14-24428d7bc116",
   "metadata": {},
   "outputs": [],
   "source": [
    "df = pd.read_parquet(\"hf://datasets/lingtrain/udmurt-russian/data/train-00000-of-00001.parquet\")"
   ]
  },
  {
   "cell_type": "code",
   "execution_count": 6,
   "id": "208d8bed-4680-4e8f-9740-60618d8dd4d2",
   "metadata": {},
   "outputs": [],
   "source": [
    "df.to_csv(\"dataMans/udmurt-rus.csv\")"
   ]
  },
  {
   "cell_type": "code",
   "execution_count": 7,
   "id": "7ee154b9-3aa2-4b6c-a137-685d06ec38c9",
   "metadata": {},
   "outputs": [],
   "source": [
    "df = pd.read_csv(\"hf://datasets/Horeknad/komi-russian-parallel-corpora/final_dataset.csv\")"
   ]
  },
  {
   "cell_type": "code",
   "execution_count": 9,
   "id": "b58cc8a2-e7f7-444d-be54-85f20f3df898",
   "metadata": {},
   "outputs": [],
   "source": [
    "df.to_csv(\"dataMans/komi-rus.csv\")"
   ]
  },
  {
   "cell_type": "code",
   "execution_count": null,
   "id": "a1db43eb-d202-4b8d-b6b0-26fd57d5a134",
   "metadata": {},
   "outputs": [],
   "source": []
  }
 ],
 "metadata": {
  "kernelspec": {
   "display_name": "Python 3 (ipykernel)",
   "language": "python",
   "name": "python3"
  },
  "language_info": {
   "codemirror_mode": {
    "name": "ipython",
    "version": 3
   },
   "file_extension": ".py",
   "mimetype": "text/x-python",
   "name": "python",
   "nbconvert_exporter": "python",
   "pygments_lexer": "ipython3",
   "version": "3.11.9"
  }
 },
 "nbformat": 4,
 "nbformat_minor": 5
}
