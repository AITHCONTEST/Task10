{
  "nbformat": 4,
  "nbformat_minor": 0,
  "metadata": {
    "colab": {
      "provenance": []
    },
    "kernelspec": {
      "name": "python3",
      "display_name": "Python 3"
    },
    "language_info": {
      "name": "python"
    }
  },
  "cells": [
    {
      "cell_type": "code",
      "source": [
        "from bs4 import BeautifulSoup\n",
        "from tqdm import tqdm\n",
        "import pandas as pd\n",
        "import requests\n",
        "import re"
      ],
      "metadata": {
        "id": "N8AZ-nczL4aN"
      },
      "execution_count": null,
      "outputs": []
    },
    {
      "cell_type": "markdown",
      "source": [
        "### Bible parsing"
      ],
      "metadata": {
        "id": "Su_p8UYw3EEf"
      }
    },
    {
      "cell_type": "code",
      "source": [
        "books = [\n",
        "    \"01_Gen\", \"02_Exo\", \"03_Lev\", \"04_Num\", \"05_Deu\", \"06_Jos\", \"07_Jdg\", \"08_Rut\",\n",
        "    \"09_1Sa\", \"10_2Sa\", \"11_1Ki\", \"12_2Ki\", \"13_1Ch\", \"14_2Ch\", \"15_Ezr\", \"16_Neh\",\n",
        "    \"17_Est\", \"18_Job\", \"19_Psa\", \"20_Pro\", \"21_Ecc\", \"22_Son\", \"23_Isa\", \"24_Jer\",\n",
        "    \"25_Lam\", \"26_Eze\", \"27_Dan\", \"28_Hos\", \"29_Joe\", \"30_Amo\", \"31_Oba\", \"32_Jon\",\n",
        "    \"33_Mic\", \"34_Nah\", \"35_Hab\", \"36_Zep\", \"37_Hag\", \"38_Zec\", \"39_Mal\", \"40_Mat\",\n",
        "    \"42_Luk\", \"43_Joh\", \"44_Act\", \"45_Jam\", \"46_1Pe\", \"47_2Pe\", \"48_1Jo\", \"49_2Jo\",\n",
        "    \"50_3Jo\", \"51_Jud\", \"52_Rom\", \"53_1Co\", \"54_2Co\", \"55_Gal\", \"56_Eph\", \"57_Php\",\n",
        "    \"58_Col\", \"59_1Th\", \"60_2Th\", \"61_1Ti\", \"62_2Ti\", \"63_Tit\", \"64_Phm\", \"65_Heb\",\n",
        "    \"66_Rev\"\n",
        "        ]"
      ],
      "metadata": {
        "id": "SUNzZn-zy_fa"
      },
      "execution_count": null,
      "outputs": []
    },
    {
      "cell_type": "code",
      "source": [
        "def parse_bible(books : list):\n",
        "    udm, rus = [], []\n",
        "    print(books)\n",
        "    for k, book in enumerate(books):\n",
        "        book_url = \"http://finugorbib.com/bible/udmurt/\" + book\n",
        "        chapter = 0\n",
        "        while True:\n",
        "            tmp_udm, tmp_rus = [], []\n",
        "            chapter_url = book_url + str(chapter+1).zfill(2) + \"_ru.html\"\n",
        "            if  requests.get(chapter_url).status_code == 404:\n",
        "                print(f\"{book} has been parsed! # {int((k+1)/len(books) * 100)}% completed\")\n",
        "                break\n",
        "            response = requests.get(chapter_url)\n",
        "            soup = BeautifulSoup(response.text , 'html.parser')\n",
        "            for i, entry in enumerate(soup.table.find_all(\"td\")):\n",
        "                if entry.find([\"h3\", \"h4\"]) != None:\n",
        "                    continue\n",
        "                verse = entry.get_text()\n",
        "                verse = re.sub(\"\\d+\", \"\", verse)\n",
        "                verse = re.sub(r'(\\*\\w)', \"\", verse) # убрать сноски из текста в таблице\n",
        "                tmp_udm.append(verse) if i % 2 == 0 else tmp_rus.append(verse)\n",
        "            if len(tmp_rus) != len(tmp_udm):\n",
        "                print(book, chapter+1)\n",
        "            else:\n",
        "                udm += tmp_udm\n",
        "                rus += tmp_rus\n",
        "            chapter += 1\n",
        "    df = pd.DataFrame(data={\"udm\" : udm, \"rus\" : rus})\n",
        "    df.to_csv(\"Bible_UDM_RUS.csv\", index=False)\n",
        "    return"
      ],
      "metadata": {
        "id": "WEZ2YMz3wTeA"
      },
      "execution_count": null,
      "outputs": []
    },
    {
      "cell_type": "code",
      "source": [
        "def parse_stories():\n",
        "    title, text = [], []\n",
        "    page = 4\n",
        "    while True:\n",
        "        page_url = \"http://finugorbib.com/bible_stories/mansi/BS_\" + str(page).zfill(2) + \"_na.html\"\n",
        "        if  requests.get(page_url).status_code == 404:\n",
        "            print(page_url)\n",
        "            print(\"batch has been parsed\")\n",
        "            break\n",
        "        response = requests.get(page_url)\n",
        "        soup = BeautifulSoup(response.text , 'html.parser')\n",
        "\n",
        "        raw_title = soup.find_all(\"h2\")[1].get_text()\n",
        "        raw_title = re.sub(r'(\\*\\w)', \"\", raw_title)\n",
        "        raw_title = re.sub(r'\"\\(.*\\)\"', \"\", raw_title)\n",
        "        title.append(raw_title)\n",
        "\n",
        "        raw_text = \"\"\n",
        "        for x in soup.find_all(\"p\", {'class':'right'}):\n",
        "            x.decompose()\n",
        "        for x in soup.find_all(\"p\"):\n",
        "            if not x.find_all([\"noscript\", \"a\", \"span\", \"select\"]):\n",
        "                raw_text += x.get_text() + \" \"\n",
        "                raw_text = re.sub(r'(\\*\\w)', \"\", raw_text)\n",
        "                raw_text = re.sub(r'\\(\\d*\\)', \"\", raw_text)\n",
        "\n",
        "        rawt_text = raw_text.rstrip()\n",
        "        text.append(raw_text)\n",
        "        page += 2\n",
        "    df = pd.DataFrame(data={\"title\" : title, \"text\" : text})\n",
        "    df.to_csv(\"Bible_Stories_MANS.csv\", index=False)\n",
        "    return"
      ],
      "metadata": {
        "id": "7usHJuBRgEud"
      },
      "execution_count": null,
      "outputs": []
    },
    {
      "cell_type": "markdown",
      "source": [
        "### Newspaper parsing"
      ],
      "metadata": {
        "id": "M20A_nGk3O0x"
      }
    },
    {
      "cell_type": "code",
      "source": [
        "PREFIX = \"https://www.khanty-yasang.ru/\"\n",
        "\n",
        "CHAR_MAPPING = {\n",
        "    \"(\\uf50e)\" : \"А̄\",\n",
        "    \"(\\uf50f)\": \"ā\",\n",
        "    \"(\\uf510)\" : \"Е̄\", # синтетика (не видел в тексте)\n",
        "    \"(\\uf511)\" : \"е̄\",\n",
        "    \"(\\uf513)\" : \"Ё̄\", # синтетика (не видел в тексте) Ё с макроном\n",
        "    \"(\\uf513)\" : \"ё̄\", # ё с макроном\n",
        "    \"(\\uf518)\" : \"О̄\",\n",
        "    \"(\\uf519)\": \"ō\",\n",
        "    \"(\\uf520)\" : \"Ы̄\",\n",
        "    \"(\\uf521)\" : \"ы̄\",\n",
        "    \"(\\uf522)\" : \"Э̄\",\n",
        "    \"(\\uf523)\" : \"э̄\",\n",
        "    \"(\\uf528)\" : \"Я̄\",\n",
        "    \"(\\uf529)\" : \"я̄\",\n",
        "    \"(\\uf52c)\" : \"Ю̄\", # синтетика (не видел в тексте)\n",
        "    \"(\\uf52d)\" : \"ю̄\"\n",
        "}\n",
        "# ӣ ӈ нормально распарсились\n",
        "\n",
        "def get_all_issues(navbar_url):\n",
        "    # parse and group by year all links to each issue of the newspaper\n",
        "    response = requests.get(navbar_url)\n",
        "    soup = BeautifulSoup(response.text , 'html.parser')\n",
        "    by_year = []\n",
        "    for x in soup.find_all(\"ul\", {\"class\": \"toggle-body\"}):\n",
        "        by_year.append([PREFIX + link.get(\"href\") for link in x.find_all(\"a\")])\n",
        "    return by_year\n",
        "\n",
        "def remap_chars(text):\n",
        "    for key, value in CHAR_MAPPING.items():\n",
        "        text = re.sub(key, value, text)\n",
        "    return text\n",
        "\n",
        "def parse_news(issue):\n",
        "    response = requests.get(issue)\n",
        "    soup = BeautifulSoup(response.text , 'html.parser')\n",
        "\n",
        "    news = []\n",
        "    for idx, x in enumerate(soup.find_all(\"h3\")[::2]):\n",
        "        try:\n",
        "            x.find(\"a\").get(\"href\")\n",
        "        except:\n",
        "            print(print(issue, idx))\n",
        "        else:\n",
        "            news.append(PREFIX + x.find(\"a\").get(\"href\"))\n",
        "    mans, rus = [], []\n",
        "    for story in news:\n",
        "        response = requests.get(story)\n",
        "        soup = BeautifulSoup(response.text , 'html.parser')\n",
        "        try:\n",
        "            mans_text = remap_chars(soup.find_all(\"div\", {\"class\" : \"field-body\"})[0].get_text())\n",
        "            rus_text = soup.find_all(\"div\", {\"class\" : \"field-item even\"})[0].get_text()\n",
        "        except:\n",
        "            print(story)\n",
        "        else:\n",
        "            mans.append(mans_text)\n",
        "            rus.append(rus_text)\n",
        "    return mans, rus\n",
        "\n",
        "def parse_year(year, issues):\n",
        "    mans, rus = [], []\n",
        "    for issue in tqdm(issues, position=0, leave=True):\n",
        "        tmp_mans, tmp_rus = parse_news(issue)\n",
        "        mans += tmp_mans\n",
        "        rus += tmp_rus\n",
        "    df = pd.DataFrame(data={\"mans\" : mans, \"rus\" : rus})\n",
        "    df.to_csv(f\"LUIMA-SERIPOS_{year}_RUS_MANS.csv\", index=False)\n",
        "\n",
        "def parse_newspaper():\n",
        "    navbar_url = PREFIX + \"luima-seripos/no-17-1323\" # any page with navbar suits\n",
        "    years = get_all_issues(navbar_url)\n",
        "\n",
        "    # drop pdf-only year and issues\n",
        "    years[1] = years[1][7:]\n",
        "    years = years[1:]\n",
        "\n",
        "    for year, issues in enumerate(years, start=2013):\n",
        "        print(f\"{year} is being parsed\")\n",
        "        parse_year(year, issues)\n",
        "        print(f\"{year} has been parsed\")\n",
        "    return"
      ],
      "metadata": {
        "id": "ozzIV-vM6oLU"
      },
      "execution_count": null,
      "outputs": []
    },
    {
      "cell_type": "code",
      "source": [
        "parse_newspaper()"
      ],
      "metadata": {
        "colab": {
          "base_uri": "https://localhost:8080/"
        },
        "id": "Z3kPDRPvHJ0G",
        "outputId": "f3d4798f-96f3-4624-c82b-ecf90f8eb51d"
      },
      "execution_count": null,
      "outputs": [
        {
          "output_type": "stream",
          "name": "stdout",
          "text": [
            "2013 is being parsed\n"
          ]
        },
        {
          "output_type": "stream",
          "name": "stderr",
          "text": [
            "  6%|▌         | 1/17 [00:20<05:21, 20.08s/it]"
          ]
        },
        {
          "output_type": "stream",
          "name": "stdout",
          "text": [
            "https://www.khanty-yasang.ru//luima-seripos/no-9-1051/639\n"
          ]
        },
        {
          "output_type": "stream",
          "name": "stderr",
          "text": [
            " 59%|█████▉    | 10/17 [02:46<01:51, 15.89s/it]"
          ]
        },
        {
          "output_type": "stream",
          "name": "stdout",
          "text": [
            "https://www.khanty-yasang.ru//luima-seripos/no-18-1060/1052\n"
          ]
        },
        {
          "output_type": "stream",
          "name": "stderr",
          "text": [
            "100%|██████████| 17/17 [04:54<00:00, 17.33s/it]\n"
          ]
        },
        {
          "output_type": "stream",
          "name": "stdout",
          "text": [
            "https://www.khanty-yasang.ru//luima-seripos/no-24-1066/1367\n",
            "2013 has been parsed\n",
            "2014 is being parsed\n"
          ]
        },
        {
          "output_type": "stream",
          "name": "stderr",
          "text": [
            " 67%|██████▋   | 16/24 [04:16<01:53, 14.20s/it]"
          ]
        },
        {
          "output_type": "stream",
          "name": "stdout",
          "text": [
            "https://www.khanty-yasang.ru//luima-seripos/no-17-1083/2114\n"
          ]
        },
        {
          "output_type": "stream",
          "name": "stderr",
          "text": [
            "\r 71%|███████   | 17/24 [04:32<01:42, 14.68s/it]"
          ]
        },
        {
          "output_type": "stream",
          "name": "stdout",
          "text": [
            "https://www.khanty-yasang.ru//luima-seripos/no-18-1084 5\n",
            "None\n"
          ]
        },
        {
          "output_type": "stream",
          "name": "stderr",
          "text": [
            " 96%|█████████▌| 23/24 [07:43<00:27, 27.28s/it]"
          ]
        },
        {
          "output_type": "stream",
          "name": "stdout",
          "text": [
            "https://www.khanty-yasang.ru//luima-seripos/no-24-1090/2458\n"
          ]
        },
        {
          "output_type": "stream",
          "name": "stderr",
          "text": [
            "100%|██████████| 24/24 [08:06<00:00, 20.26s/it]\n"
          ]
        },
        {
          "output_type": "stream",
          "name": "stdout",
          "text": [
            "2014 has been parsed\n",
            "2015 is being parsed\n"
          ]
        },
        {
          "output_type": "stream",
          "name": "stderr",
          "text": [
            " 17%|█▋        | 4/24 [02:46<14:28, 43.41s/it]"
          ]
        },
        {
          "output_type": "stream",
          "name": "stdout",
          "text": [
            "https://www.khanty-yasang.ru//luima-seripos/no-5-1095/2771\n"
          ]
        },
        {
          "output_type": "stream",
          "name": "stderr",
          "text": [
            " 38%|███▊      | 9/24 [07:25<12:26, 49.77s/it]"
          ]
        },
        {
          "output_type": "stream",
          "name": "stdout",
          "text": [
            "https://www.khanty-yasang.ru//luima-seripos/no-10-1100/2979\n"
          ]
        },
        {
          "output_type": "stream",
          "name": "stderr",
          "text": [
            "100%|██████████| 24/24 [14:08<00:00, 35.34s/it]\n"
          ]
        },
        {
          "output_type": "stream",
          "name": "stdout",
          "text": [
            "2015 has been parsed\n",
            "2016 is being parsed\n"
          ]
        },
        {
          "output_type": "stream",
          "name": "stderr",
          "text": [
            "100%|██████████| 24/24 [09:42<00:00, 24.25s/it]\n"
          ]
        },
        {
          "output_type": "stream",
          "name": "stdout",
          "text": [
            "2016 has been parsed\n",
            "2017 is being parsed\n"
          ]
        },
        {
          "output_type": "stream",
          "name": "stderr",
          "text": [
            "\r  0%|          | 0/24 [00:00<?, ?it/s]"
          ]
        },
        {
          "output_type": "stream",
          "name": "stdout",
          "text": [
            "https://www.khanty-yasang.ru//luima-seripos/no-1-1139/5635\n"
          ]
        },
        {
          "output_type": "stream",
          "name": "stderr",
          "text": [
            "100%|██████████| 24/24 [08:33<00:00, 21.38s/it]\n"
          ]
        },
        {
          "output_type": "stream",
          "name": "stdout",
          "text": [
            "2017 has been parsed\n",
            "2018 is being parsed\n"
          ]
        },
        {
          "output_type": "stream",
          "name": "stderr",
          "text": [
            "100%|██████████| 24/24 [08:22<00:00, 20.92s/it]\n"
          ]
        },
        {
          "output_type": "stream",
          "name": "stdout",
          "text": [
            "2018 has been parsed\n",
            "2019 is being parsed\n"
          ]
        },
        {
          "output_type": "stream",
          "name": "stderr",
          "text": [
            " 71%|███████   | 17/24 [06:00<02:20, 20.11s/it]"
          ]
        },
        {
          "output_type": "stream",
          "name": "stdout",
          "text": [
            "https://www.khanty-yasang.ru//luima-seripos/no-18-1204/9440\n"
          ]
        },
        {
          "output_type": "stream",
          "name": "stderr",
          "text": [
            " 79%|███████▉  | 19/24 [06:46<01:47, 21.55s/it]"
          ]
        },
        {
          "output_type": "stream",
          "name": "stdout",
          "text": [
            "https://www.khanty-yasang.ru//luima-seripos/no-20-1206/9534\n"
          ]
        },
        {
          "output_type": "stream",
          "name": "stderr",
          "text": [
            "100%|██████████| 24/24 [08:28<00:00, 21.21s/it]\n"
          ]
        },
        {
          "output_type": "stream",
          "name": "stdout",
          "text": [
            "2019 has been parsed\n",
            "2020 is being parsed\n"
          ]
        },
        {
          "output_type": "stream",
          "name": "stderr",
          "text": [
            "\r  0%|          | 0/24 [00:00<?, ?it/s]"
          ]
        },
        {
          "output_type": "stream",
          "name": "stdout",
          "text": [
            "https://www.khanty-yasang.ru//luima-seripos/no-1-1211/9821\n"
          ]
        },
        {
          "output_type": "stream",
          "name": "stderr",
          "text": [
            " 17%|█▋        | 4/24 [01:38<07:52, 23.64s/it]"
          ]
        },
        {
          "output_type": "stream",
          "name": "stdout",
          "text": [
            "https://www.khanty-yasang.ru//luima-seripos/no-5-1215/10130\n"
          ]
        },
        {
          "output_type": "stream",
          "name": "stderr",
          "text": [
            " 29%|██▉       | 7/24 [02:39<06:09, 21.76s/it]"
          ]
        },
        {
          "output_type": "stream",
          "name": "stdout",
          "text": [
            "https://www.khanty-yasang.ru//luima-seripos/no-8-1218/10395\n"
          ]
        },
        {
          "output_type": "stream",
          "name": "stderr",
          "text": [
            "\r 33%|███▎      | 8/24 [03:03<05:59, 22.47s/it]"
          ]
        },
        {
          "output_type": "stream",
          "name": "stdout",
          "text": [
            "https://www.khanty-yasang.ru//luima-seripos/no-9-1219/10502\n"
          ]
        },
        {
          "output_type": "stream",
          "name": "stderr",
          "text": [
            " 50%|█████     | 12/24 [04:30<04:15, 21.28s/it]"
          ]
        },
        {
          "output_type": "stream",
          "name": "stdout",
          "text": [
            "https://www.khanty-yasang.ru//luima-seripos/no-13-1223/10776\n"
          ]
        },
        {
          "output_type": "stream",
          "name": "stderr",
          "text": [
            "100%|██████████| 24/24 [08:40<00:00, 21.70s/it]\n"
          ]
        },
        {
          "output_type": "stream",
          "name": "stdout",
          "text": [
            "2020 has been parsed\n",
            "2021 is being parsed\n"
          ]
        },
        {
          "output_type": "stream",
          "name": "stderr",
          "text": [
            "100%|██████████| 24/24 [08:10<00:00, 20.46s/it]\n"
          ]
        },
        {
          "output_type": "stream",
          "name": "stdout",
          "text": [
            "2021 has been parsed\n",
            "2022 is being parsed\n"
          ]
        },
        {
          "output_type": "stream",
          "name": "stderr",
          "text": [
            "100%|██████████| 24/24 [07:40<00:00, 19.20s/it]\n"
          ]
        },
        {
          "output_type": "stream",
          "name": "stdout",
          "text": [
            "2022 has been parsed\n",
            "2023 is being parsed\n"
          ]
        },
        {
          "output_type": "stream",
          "name": "stderr",
          "text": [
            "100%|██████████| 25/25 [08:33<00:00, 20.53s/it]\n"
          ]
        },
        {
          "output_type": "stream",
          "name": "stdout",
          "text": [
            "2023 has been parsed\n",
            "2024 is being parsed\n"
          ]
        },
        {
          "output_type": "stream",
          "name": "stderr",
          "text": [
            "100%|██████████| 17/17 [05:16<00:00, 18.61s/it]"
          ]
        },
        {
          "output_type": "stream",
          "name": "stdout",
          "text": [
            "2024 has been parsed\n"
          ]
        },
        {
          "output_type": "stream",
          "name": "stderr",
          "text": [
            "\n"
          ]
        }
      ]
    },
    {
      "cell_type": "code",
      "source": [
        "# retrieve links to all news from one issue of the newspaper\n",
        "\n",
        "page_url = \"https://www.khanty-yasang.ru/luima-seripos/no-8-1050\"\n",
        "response = requests.get(page_url)\n",
        "soup = BeautifulSoup(response.text , 'html.parser')\n",
        "[PREFIX+ x.find(\"a\").get(\"href\") for x in soup.find_all(\"h3\")[::2]]"
      ],
      "metadata": {
        "colab": {
          "base_uri": "https://localhost:8080/"
        },
        "id": "N8urJktS9h2S",
        "outputId": "7b1bc01c-68b5-449c-c435-94b23742f8ff"
      },
      "execution_count": null,
      "outputs": [
        {
          "output_type": "execute_result",
          "data": {
            "text/plain": [
              "['https://www.khanty-yasang.ru//luima-seripos/no-8-1050/593',\n",
              " 'https://www.khanty-yasang.ru//luima-seripos/no-8-1050/597',\n",
              " 'https://www.khanty-yasang.ru//luima-seripos/no-8-1050/584',\n",
              " 'https://www.khanty-yasang.ru//luima-seripos/no-8-1050/591',\n",
              " 'https://www.khanty-yasang.ru//luima-seripos/no-8-1050/573',\n",
              " 'https://www.khanty-yasang.ru//luima-seripos/no-8-1050/592',\n",
              " 'https://www.khanty-yasang.ru//luima-seripos/no-8-1050/577',\n",
              " 'https://www.khanty-yasang.ru//luima-seripos/no-8-1050/578',\n",
              " 'https://www.khanty-yasang.ru//luima-seripos/no-8-1050/579',\n",
              " 'https://www.khanty-yasang.ru//luima-seripos/no-8-1050/580',\n",
              " 'https://www.khanty-yasang.ru//luima-seripos/no-8-1050/581',\n",
              " 'https://www.khanty-yasang.ru//luima-seripos/no-8-1050/582',\n",
              " 'https://www.khanty-yasang.ru//luima-seripos/no-8-1050/583',\n",
              " 'https://www.khanty-yasang.ru//luima-seripos/no-8-1050/585',\n",
              " 'https://www.khanty-yasang.ru//luima-seripos/no-8-1050/586',\n",
              " 'https://www.khanty-yasang.ru//luima-seripos/no-8-1050/588',\n",
              " 'https://www.khanty-yasang.ru//luima-seripos/no-8-1050/589',\n",
              " 'https://www.khanty-yasang.ru//luima-seripos/no-8-1050/590',\n",
              " 'https://www.khanty-yasang.ru//luima-seripos/no-8-1050/594',\n",
              " 'https://www.khanty-yasang.ru//luima-seripos/no-8-1050/595',\n",
              " 'https://www.khanty-yasang.ru//luima-seripos/no-8-1050/596',\n",
              " 'https://www.khanty-yasang.ru//luima-seripos/no-8-1050/587']"
            ]
          },
          "metadata": {},
          "execution_count": 102
        }
      ]
    }
  ]
}